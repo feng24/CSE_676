{
  "nbformat": 4,
  "nbformat_minor": 0,
  "metadata": {
    "colab": {
      "name": "InceptionV2_ADAM_NoRegularization.ipynb",
      "provenance": []
    },
    "kernelspec": {
      "name": "python3",
      "display_name": "Python 3"
    },
    "accelerator": "GPU"
  },
  "cells": [
    {
      "cell_type": "code",
      "metadata": {
        "id": "c2iWZX59JJQI"
      },
      "source": [
        "from tensorflow.keras.datasets import cifar100\n",
        "from tensorflow import keras\n",
        "from tensorflow.keras.layers import Dense, Flatten, Conv2D, MaxPool2D, BatchNormalization\n",
        "from tensorflow.keras.models import Sequential\n",
        "from tensorflow.keras import layers\n",
        "from keras.utils import to_categorical\n",
        "from tensorflow.keras.callbacks import EarlyStopping\n",
        "from sklearn.metrics import classification_report\n",
        "import tensorflow as tf\n",
        "import matplotlib.pyplot as plt\n",
        "import numpy as np"
      ],
      "execution_count": 10,
      "outputs": []
    },
    {
      "cell_type": "code",
      "metadata": {
        "id": "nPqB2yKgy0ZD",
        "outputId": "fb091203-99a0-4d50-f8bd-33810b4cf457",
        "colab": {
          "base_uri": "https://localhost:8080/",
          "height": 51
        }
      },
      "source": [
        "#Load Data\n",
        "(train_data, _train_label), (test_data, _test_label) = cifar100.load_data()\n",
        "\n",
        "#Parse the number\n",
        "train_data = train_data.astype('float32')\n",
        "test_data = test_data.astype('float32')\n",
        "\n",
        "#normalize data\n",
        "train_data = train_data / 255\n",
        "test_data = test_data / 255\n",
        "\n",
        "train_label = to_categorical(_train_label)\n",
        "test_label = to_categorical(_test_label)"
      ],
      "execution_count": 2,
      "outputs": [
        {
          "output_type": "stream",
          "text": [
            "Downloading data from https://www.cs.toronto.edu/~kriz/cifar-100-python.tar.gz\n",
            "169009152/169001437 [==============================] - 11s 0us/step\n"
          ],
          "name": "stdout"
        }
      ]
    },
    {
      "cell_type": "code",
      "metadata": {
        "id": "ejewoZg1Mh8B"
      },
      "source": [
        "class Inception(layers.Layer):\n",
        "    def __init__(self, c1, c2, c3, c4):\n",
        "        super().__init__()\n",
        "\n",
        "        self.L1 = Conv2D(c1, kernel_size = 1, activation = 'relu', padding = 'same')\n",
        "\n",
        "        self.L4_1 = MaxPool2D(pool_size = (1,1), strides = 1)\n",
        "        self.L4_2 = Conv2D(c4, kernel_size = 1, activation = 'relu')\n",
        "\n",
        "        self.L2_1 = Conv2D(c2[0], kernel_size = 1, strides = (1,1),activation = 'relu', padding = 'same')\n",
        "        self.L2_2 = Conv2D(c2[1], kernel_size = 3, activation = 'relu', padding = 'same')\n",
        "        \n",
        "        self.L3_1 = Conv2D(c3[0], kernel_size = 1, activation = 'relu')\n",
        "        self.L3_2 = Conv2D(c3[1], kernel_size = 3, activation = 'relu', padding = 'same')\n",
        "        self.L3_3 = Conv2D(c3[1], kernel_size = 3, activation = 'relu', padding = 'same')\n",
        "\n",
        "        self.bn = BatchNormalization()\n",
        "\n",
        "    def call(self, x):\n",
        "        out1 = self.L1(x)\n",
        "        out2 = self.L2_2(self.L2_1(x))\n",
        "        out3 = self.L3_3(self.L3_2(self.L3_1(x)))\n",
        "        out4 = self.L4_2(self.L4_1(x))\n",
        "\n",
        "        return tf.concat([out1, out2, out3, out4], axis = 3)"
      ],
      "execution_count": 3,
      "outputs": []
    },
    {
      "cell_type": "code",
      "metadata": {
        "id": "JIoP0naiQuz8"
      },
      "source": [
        "output1 = Sequential()\n",
        "output1.add(Conv2D(64,kernel_size = 7, strides = (2,2), padding = 'same', activation = 'relu'))\n",
        "output1.add(MaxPool2D(pool_size = (3,3), strides = 1))\n",
        "\n",
        "output2 = Sequential()\n",
        "output2.add(Conv2D(64, kernel_size = 1, strides = (1,1), activation = 'relu'))\n",
        "output2.add(BatchNormalization())\n",
        "output2.add(Conv2D(192, kernel_size = 3, strides = (1,1), padding = 'same', activation = 'relu'))\n",
        "output2.add(MaxPool2D(pool_size = (3,3), strides = 2, padding = 'same'))\n",
        "\n",
        "output3 = Sequential()\n",
        "output3.add(Inception(64,(96,128),(16,32),32))\n",
        "output3.add(Inception(128,(128,192),(32,96),64))\n",
        "output3.add(MaxPool2D(pool_size = (3,3), strides = 2, padding = 'same'))\n",
        "\n",
        "output4 = Sequential()\n",
        "output4.add(Inception(192,(96,208),(16,48),64))\n",
        "output4.add(Inception(160,(112,224),(24,64),64))\n",
        "output4.add(Inception(128,(128,256),(24,64),64))\n",
        "output4.add(Inception(112,(144,288),(32,64),64))\n",
        "output4.add(Inception(256,(160,320),(32,128),128))\n",
        "output4.add(MaxPool2D(pool_size = (3,3), strides = 2, padding = 'same'))\n",
        "\n",
        "output5 = Sequential()\n",
        "output5.add(Inception(256,(160,320),(32,128),128))\n",
        "output5.add(Inception(384,(192,384),(48,128),128))\n",
        "output5.add(MaxPool2D(pool_size = (3,3), strides = 2, padding = 'same'))\n",
        "\n",
        "net = Sequential()\n",
        "net.add(output1)\n",
        "net.add(output2)\n",
        "net.add(output3)\n",
        "net.add(output4)\n",
        "net.add(output5)\n",
        "net.add(Flatten())\n",
        "net.add(Dense(100, activation = 'softmax'))"
      ],
      "execution_count": 4,
      "outputs": []
    },
    {
      "cell_type": "code",
      "metadata": {
        "id": "Yc63quN_ytmM",
        "outputId": "2452da1f-ed6b-4f4c-d840-763245c5e2d7",
        "colab": {
          "base_uri": "https://localhost:8080/",
          "height": 1000
        }
      },
      "source": [
        "opt = keras.optimizers.Adam(learning_rate = 0.001)\n",
        "net.compile(optimizer = opt, loss = 'categorical_crossentropy', metrics = ['accuracy'])\n",
        "result = net.fit(train_data,train_label, batch_size = 18, epochs = 10)\n",
        "print(net.summary())\n",
        "predict = net.predict(test_data)\n",
        "predict = np.argmax(predict, axis = 1)\n",
        "test_label = np.argmax(test_label, axis = 1)\n",
        "print(classification_report(y_true = test_label, y_pred = predict))\n",
        "plt.plot(result.history['accuracy'])\n",
        "plt.title('Accuracy')\n",
        "plt.ylabel('accuracy')\n",
        "plt.xlabel('epoch')\n",
        "plt.legend(['train'])\n",
        "plt.show()\n",
        "\n",
        "plt.plot(result.history['loss'])\n",
        "plt.title('loss')\n",
        "plt.ylabel('loss')\n",
        "plt.xlabel('epoch')\n",
        "plt.legend(['train'])\n",
        "plt.show()"
      ],
      "execution_count": 15,
      "outputs": [
        {
          "output_type": "stream",
          "text": [
            "Epoch 1/10\n",
            "2778/2778 [==============================] - 53s 19ms/step - loss: 4.6077 - accuracy: 0.0095\n",
            "Epoch 2/10\n",
            "2778/2778 [==============================] - 53s 19ms/step - loss: 4.6063 - accuracy: 0.0090\n",
            "Epoch 3/10\n",
            "2778/2778 [==============================] - 52s 19ms/step - loss: 4.6062 - accuracy: 0.0087\n",
            "Epoch 4/10\n",
            "2778/2778 [==============================] - 52s 19ms/step - loss: 4.6062 - accuracy: 0.0086\n",
            "Epoch 5/10\n",
            "2778/2778 [==============================] - 52s 19ms/step - loss: 4.6062 - accuracy: 0.0089\n",
            "Epoch 6/10\n",
            "2778/2778 [==============================] - 53s 19ms/step - loss: 4.6062 - accuracy: 0.0089\n",
            "Epoch 7/10\n",
            "2778/2778 [==============================] - 53s 19ms/step - loss: 4.6062 - accuracy: 0.0091\n",
            "Epoch 8/10\n",
            "2778/2778 [==============================] - 53s 19ms/step - loss: 4.6061 - accuracy: 0.0091\n",
            "Epoch 9/10\n",
            "2778/2778 [==============================] - 52s 19ms/step - loss: 4.6062 - accuracy: 0.0088\n",
            "Epoch 10/10\n",
            "2778/2778 [==============================] - 52s 19ms/step - loss: 4.6061 - accuracy: 0.0089\n",
            "Model: \"sequential_5\"\n",
            "_________________________________________________________________\n",
            "Layer (type)                 Output Shape              Param #   \n",
            "=================================================================\n",
            "sequential (Sequential)      (None, 14, 14, 64)        9472      \n",
            "_________________________________________________________________\n",
            "sequential_1 (Sequential)    (None, 7, 7, 192)         115200    \n",
            "_________________________________________________________________\n",
            "sequential_2 (Sequential)    (None, 4, 4, 480)         587376    \n",
            "_________________________________________________________________\n",
            "sequential_3 (Sequential)    (None, 2, 2, 832)         2928576   \n",
            "_________________________________________________________________\n",
            "sequential_4 (Sequential)    (None, 1, 1, 1024)        2618864   \n",
            "_________________________________________________________________\n",
            "flatten (Flatten)            (None, 1024)              0         \n",
            "_________________________________________________________________\n",
            "dense (Dense)                (None, 100)               102500    \n",
            "=================================================================\n",
            "Total params: 6,361,988\n",
            "Trainable params: 6,361,860\n",
            "Non-trainable params: 128\n",
            "_________________________________________________________________\n",
            "None\n",
            "              precision    recall  f1-score   support\n",
            "\n",
            "           0       0.00      0.00      0.00       100\n",
            "           1       0.00      0.00      0.00       100\n",
            "           2       0.00      0.00      0.00       100\n",
            "           3       0.00      0.00      0.00       100\n",
            "           4       0.00      0.00      0.00       100\n",
            "           5       0.00      0.00      0.00       100\n",
            "           6       0.00      0.00      0.00       100\n",
            "           7       0.00      0.00      0.00       100\n",
            "           8       0.00      0.00      0.00       100\n",
            "           9       0.00      0.00      0.00       100\n",
            "          10       0.00      0.00      0.00       100\n",
            "          11       0.00      0.00      0.00       100\n",
            "          12       0.00      0.00      0.00       100\n",
            "          13       0.00      0.00      0.00       100\n",
            "          14       0.00      0.00      0.00       100\n",
            "          15       0.00      0.00      0.00       100\n",
            "          16       0.00      0.00      0.00       100\n",
            "          17       0.00      0.00      0.00       100\n",
            "          18       0.00      0.00      0.00       100\n",
            "          19       0.00      0.00      0.00       100\n",
            "          20       0.00      0.00      0.00       100\n",
            "          21       0.00      0.00      0.00       100\n",
            "          22       0.00      0.00      0.00       100\n",
            "          23       0.00      0.00      0.00       100\n",
            "          24       0.00      0.00      0.00       100\n",
            "          25       0.00      0.00      0.00       100\n",
            "          26       0.00      0.00      0.00       100\n",
            "          27       0.00      0.00      0.00       100\n",
            "          28       0.00      0.00      0.00       100\n",
            "          29       0.00      0.00      0.00       100\n",
            "          30       0.00      0.00      0.00       100\n",
            "          31       0.00      0.00      0.00       100\n",
            "          32       0.00      0.00      0.00       100\n",
            "          33       0.00      0.00      0.00       100\n",
            "          34       0.00      0.00      0.00       100\n",
            "          35       0.00      0.00      0.00       100\n",
            "          36       0.00      0.00      0.00       100\n",
            "          37       0.00      0.00      0.00       100\n",
            "          38       0.00      0.00      0.00       100\n",
            "          39       0.00      0.00      0.00       100\n",
            "          40       0.00      0.00      0.00       100\n",
            "          41       0.00      0.00      0.00       100\n",
            "          42       0.00      0.00      0.00       100\n",
            "          43       0.00      0.00      0.00       100\n",
            "          44       0.00      0.00      0.00       100\n",
            "          45       0.00      0.00      0.00       100\n",
            "          46       0.00      0.00      0.00       100\n",
            "          47       0.00      0.00      0.00       100\n",
            "          48       0.00      0.00      0.00       100\n",
            "          49       0.00      0.00      0.00       100\n",
            "          50       0.00      0.00      0.00       100\n",
            "          51       0.00      0.00      0.00       100\n",
            "          52       0.00      0.00      0.00       100\n",
            "          53       0.00      0.00      0.00       100\n",
            "          54       0.00      0.00      0.00       100\n",
            "          55       0.00      0.00      0.00       100\n",
            "          56       0.00      0.00      0.00       100\n",
            "          57       0.00      0.00      0.00       100\n",
            "          58       0.00      0.00      0.00       100\n",
            "          59       0.00      0.00      0.00       100\n",
            "          60       0.00      0.00      0.00       100\n",
            "          61       0.01      1.00      0.02       100\n",
            "          62       0.00      0.00      0.00       100\n",
            "          63       0.00      0.00      0.00       100\n",
            "          64       0.00      0.00      0.00       100\n",
            "          65       0.00      0.00      0.00       100\n",
            "          66       0.00      0.00      0.00       100\n",
            "          67       0.00      0.00      0.00       100\n",
            "          68       0.00      0.00      0.00       100\n",
            "          69       0.00      0.00      0.00       100\n",
            "          70       0.00      0.00      0.00       100\n",
            "          71       0.00      0.00      0.00       100\n",
            "          72       0.00      0.00      0.00       100\n",
            "          73       0.00      0.00      0.00       100\n",
            "          74       0.00      0.00      0.00       100\n",
            "          75       0.00      0.00      0.00       100\n",
            "          76       0.00      0.00      0.00       100\n",
            "          77       0.00      0.00      0.00       100\n",
            "          78       0.00      0.00      0.00       100\n",
            "          79       0.00      0.00      0.00       100\n",
            "          80       0.00      0.00      0.00       100\n",
            "          81       0.00      0.00      0.00       100\n",
            "          82       0.00      0.00      0.00       100\n",
            "          83       0.00      0.00      0.00       100\n",
            "          84       0.00      0.00      0.00       100\n",
            "          85       0.00      0.00      0.00       100\n",
            "          86       0.00      0.00      0.00       100\n",
            "          87       0.00      0.00      0.00       100\n",
            "          88       0.00      0.00      0.00       100\n",
            "          89       0.00      0.00      0.00       100\n",
            "          90       0.00      0.00      0.00       100\n",
            "          91       0.00      0.00      0.00       100\n",
            "          92       0.00      0.00      0.00       100\n",
            "          93       0.00      0.00      0.00       100\n",
            "          94       0.00      0.00      0.00       100\n",
            "          95       0.00      0.00      0.00       100\n",
            "          96       0.00      0.00      0.00       100\n",
            "          97       0.00      0.00      0.00       100\n",
            "          98       0.00      0.00      0.00       100\n",
            "          99       0.00      0.00      0.00       100\n",
            "\n",
            "    accuracy                           0.01     10000\n",
            "   macro avg       0.00      0.01      0.00     10000\n",
            "weighted avg       0.00      0.01      0.00     10000\n",
            "\n"
          ],
          "name": "stdout"
        },
        {
          "output_type": "stream",
          "text": [
            "/usr/local/lib/python3.6/dist-packages/sklearn/metrics/_classification.py:1272: UndefinedMetricWarning: Precision and F-score are ill-defined and being set to 0.0 in labels with no predicted samples. Use `zero_division` parameter to control this behavior.\n",
            "  _warn_prf(average, modifier, msg_start, len(result))\n"
          ],
          "name": "stderr"
        },
        {
          "output_type": "display_data",
          "data": {
            "image/png": "[encoded data removed]",
            "text/plain": [
              "<Figure size 432x288 with 1 Axes>"
            ]
          },
          "metadata": {
            "tags": [],
            "needs_background": "light"
          }
        },
        {
          "output_type": "display_data",
          "data": {
            "image/png": "[encoded data removed]",
            "text/plain": [
              "<Figure size 432x288 with 1 Axes>"
            ]
          },
          "metadata": {
            "tags": [],
            "needs_background": "light"
          }
        }
      ]
    }
  ]
}
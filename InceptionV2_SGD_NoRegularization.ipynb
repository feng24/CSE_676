{
  "nbformat": 4,
  "nbformat_minor": 0,
  "metadata": {
    "colab": {
      "name": "InceptionV2_SGD_NoRegularization.ipynb",
      "provenance": []
    },
    "kernelspec": {
      "name": "python3",
      "display_name": "Python 3"
    },
    "accelerator": "GPU"
  },
  "cells": [
    {
      "cell_type": "code",
      "metadata": {
        "id": "c2iWZX59JJQI"
      },
      "source": [
        "from tensorflow.keras.datasets import cifar100\n",
        "from tensorflow import keras\n",
        "from tensorflow.keras.layers import Dense, Flatten, Conv2D, MaxPool2D, BatchNormalization\n",
        "from tensorflow.keras.models import Sequential\n",
        "from tensorflow.keras import layers\n",
        "from keras.utils import to_categorical\n",
        "from tensorflow.keras.callbacks import EarlyStopping\n",
        "from sklearn.metrics import classification_report\n",
        "import tensorflow as tf\n",
        "import matplotlib.pyplot as plt\n",
        "import numpy as np"
      ],
      "execution_count": 8,
      "outputs": []
    },
    {
      "cell_type": "code",
      "metadata": {
        "id": "nPqB2yKgy0ZD",
        "outputId": "030035c5-f8ee-45d5-bbc2-e91454d008fe",
        "colab": {
          "base_uri": "https://localhost:8080/",
          "height": 51
        }
      },
      "source": [
        "#Load Data\n",
        "(train_data, _train_label), (test_data, _test_label) = cifar100.load_data()\n",
        "\n",
        "#Parse the number\n",
        "train_data = train_data.astype('float32')\n",
        "test_data = test_data.astype('float32')\n",
        "\n",
        "#normalize data\n",
        "train_data = train_data / 255\n",
        "test_data = test_data / 255\n",
        "\n",
        "train_label = to_categorical(_train_label)\n",
        "test_label = to_categorical(_test_label)"
      ],
      "execution_count": 2,
      "outputs": [
        {
          "output_type": "stream",
          "text": [
            "Downloading data from https://www.cs.toronto.edu/~kriz/cifar-100-python.tar.gz\n",
            "169009152/169001437 [==============================] - 4s 0us/step\n"
          ],
          "name": "stdout"
        }
      ]
    },
    {
      "cell_type": "code",
      "metadata": {
        "id": "ejewoZg1Mh8B"
      },
      "source": [
        "class Inception(layers.Layer):\n",
        "    def __init__(self, c1, c2, c3, c4):\n",
        "        super().__init__()\n",
        "\n",
        "        self.L1 = Conv2D(c1, kernel_size = 1, activation = 'relu', padding = 'same')\n",
        "\n",
        "        self.L4_1 = MaxPool2D(pool_size = (1,1), strides = 1)\n",
        "        self.L4_2 = Conv2D(c4, kernel_size = 1, activation = 'relu')\n",
        "\n",
        "        self.L2_1 = Conv2D(c2[0], kernel_size = 1, strides = (1,1),activation = 'relu', padding = 'same')\n",
        "        self.L2_2 = Conv2D(c2[1], kernel_size = 3, activation = 'relu', padding = 'same')\n",
        "        \n",
        "        self.L3_1 = Conv2D(c3[0], kernel_size = 1, activation = 'relu')\n",
        "        self.L3_2 = Conv2D(c3[1], kernel_size = 3, activation = 'relu', padding = 'same')\n",
        "        self.L3_3 = Conv2D(c3[1], kernel_size = 3, activation = 'relu', padding = 'same')\n",
        "\n",
        "        self.bn = BatchNormalization()\n",
        "\n",
        "    def call(self, x):\n",
        "        out1 = self.L1(x)\n",
        "        out2 = self.L2_2(self.L2_1(x))\n",
        "        out3 = self.L3_3(self.L3_2(self.L3_1(x)))\n",
        "        out4 = self.L4_2(self.L4_1(x))\n",
        "\n",
        "        return tf.concat([out1, out2, out3, out4], axis = 3)"
      ],
      "execution_count": 3,
      "outputs": []
    },
    {
      "cell_type": "code",
      "metadata": {
        "id": "JIoP0naiQuz8"
      },
      "source": [
        "output1 = Sequential()\n",
        "output1.add(Conv2D(64,kernel_size = 7, strides = (2,2), padding = 'same', activation = 'relu'))\n",
        "output1.add(MaxPool2D(pool_size = (3,3), strides = 1))\n",
        "\n",
        "output2 = Sequential()\n",
        "output2.add(Conv2D(64, kernel_size = 1, strides = (1,1), activation = 'relu'))\n",
        "output2.add(BatchNormalization())\n",
        "output2.add(Conv2D(192, kernel_size = 3, strides = (1,1), padding = 'same', activation = 'relu'))\n",
        "output2.add(MaxPool2D(pool_size = (3,3), strides = 2, padding = 'same'))\n",
        "\n",
        "output3 = Sequential()\n",
        "output3.add(Inception(64,(96,128),(16,32),32))\n",
        "output3.add(Inception(128,(128,192),(32,96),64))\n",
        "output3.add(MaxPool2D(pool_size = (3,3), strides = 2, padding = 'same'))\n",
        "\n",
        "output4 = Sequential()\n",
        "output4.add(Inception(192,(96,208),(16,48),64))\n",
        "output4.add(Inception(160,(112,224),(24,64),64))\n",
        "output4.add(Inception(128,(128,256),(24,64),64))\n",
        "output4.add(Inception(112,(144,288),(32,64),64))\n",
        "output4.add(Inception(256,(160,320),(32,128),128))\n",
        "output4.add(MaxPool2D(pool_size = (3,3), strides = 2, padding = 'same'))\n",
        "\n",
        "output5 = Sequential()\n",
        "output5.add(Inception(256,(160,320),(32,128),128))\n",
        "output5.add(Inception(384,(192,384),(48,128),128))\n",
        "output5.add(MaxPool2D(pool_size = (3,3), strides = 2, padding = 'same'))\n",
        "\n",
        "net = Sequential()\n",
        "net.add(output1)\n",
        "net.add(output2)\n",
        "net.add(output3)\n",
        "net.add(output4)\n",
        "net.add(output5)\n",
        "net.add(Flatten())\n",
        "net.add(Dense(100, activation = 'softmax'))"
      ],
      "execution_count": 4,
      "outputs": []
    },
    {
      "cell_type": "code",
      "metadata": {
        "id": "Yc63quN_ytmM",
        "outputId": "46110f01-0bdc-46c6-9ffe-ed14b5288570",
        "colab": {
          "base_uri": "https://localhost:8080/",
          "height": 1000
        }
      },
      "source": [
        "opt = keras.optimizers.SGD(learning_rate = 0.001)\n",
        "net.compile(optimizer = opt, loss = 'categorical_crossentropy', metrics = ['accuracy'])\n",
        "result = net.fit(train_data,train_label, batch_size = 20, epochs = 30)\n",
        "print(net.summary())\n",
        "predict = net.predict(test_data)\n",
        "predict = np.argmax(predict, axis = 1)\n",
        "test_label = np.argmax(test_label, axis = 1)\n",
        "print(classification_report(y_true = test_label, y_pred = predict))\n",
        "plt.plot(result.history['accuracy'])\n",
        "plt.title('Accuracy')\n",
        "plt.ylabel('accuracy')\n",
        "plt.xlabel('epoch')\n",
        "plt.legend(['train'])\n",
        "plt.show()\n",
        "\n",
        "plt.plot(result.history['loss'])\n",
        "plt.title('loss')\n",
        "plt.ylabel('loss')\n",
        "plt.xlabel('epoch')\n",
        "plt.legend(['train'])\n",
        "plt.show()"
      ],
      "execution_count": 9,
      "outputs": [
        {
          "output_type": "stream",
          "text": [
            "Model: \"sequential_5\"\n",
            "_________________________________________________________________\n",
            "Layer (type)                 Output Shape              Param #   \n",
            "=================================================================\n",
            "sequential (Sequential)      (None, 14, 14, 64)        9472      \n",
            "_________________________________________________________________\n",
            "sequential_1 (Sequential)    (None, 7, 7, 192)         115200    \n",
            "_________________________________________________________________\n",
            "sequential_2 (Sequential)    (None, 4, 4, 480)         587376    \n",
            "_________________________________________________________________\n",
            "sequential_3 (Sequential)    (None, 2, 2, 832)         2928576   \n",
            "_________________________________________________________________\n",
            "sequential_4 (Sequential)    (None, 1, 1, 1024)        2618864   \n",
            "_________________________________________________________________\n",
            "flatten (Flatten)            (None, 1024)              0         \n",
            "_________________________________________________________________\n",
            "dense (Dense)                (None, 100)               102500    \n",
            "=================================================================\n",
            "Total params: 6,361,988\n",
            "Trainable params: 6,361,860\n",
            "Non-trainable params: 128\n",
            "_________________________________________________________________\n",
            "None\n",
            "              precision    recall  f1-score   support\n",
            "\n",
            "           0       0.72      0.66      0.69       100\n",
            "           1       0.35      0.50      0.41       100\n",
            "           2       0.26      0.32      0.29       100\n",
            "           3       0.28      0.09      0.14       100\n",
            "           4       0.18      0.09      0.12       100\n",
            "           5       0.21      0.43      0.28       100\n",
            "           6       0.24      0.55      0.33       100\n",
            "           7       0.78      0.21      0.33       100\n",
            "           8       0.31      0.36      0.33       100\n",
            "           9       0.48      0.40      0.44       100\n",
            "          10       0.36      0.15      0.21       100\n",
            "          11       0.33      0.12      0.18       100\n",
            "          12       0.47      0.23      0.31       100\n",
            "          13       0.23      0.38      0.28       100\n",
            "          14       0.30      0.20      0.24       100\n",
            "          15       0.24      0.26      0.25       100\n",
            "          16       0.41      0.38      0.40       100\n",
            "          17       0.39      0.67      0.49       100\n",
            "          18       0.30      0.29      0.30       100\n",
            "          19       0.38      0.21      0.27       100\n",
            "          20       0.61      0.69      0.64       100\n",
            "          21       0.51      0.62      0.56       100\n",
            "          22       0.53      0.17      0.26       100\n",
            "          23       0.45      0.68      0.54       100\n",
            "          24       0.76      0.37      0.50       100\n",
            "          25       0.25      0.34      0.29       100\n",
            "          26       0.30      0.33      0.31       100\n",
            "          27       0.16      0.40      0.22       100\n",
            "          28       0.68      0.34      0.45       100\n",
            "          29       0.27      0.31      0.29       100\n",
            "          30       0.45      0.44      0.44       100\n",
            "          31       0.22      0.42      0.28       100\n",
            "          32       0.32      0.19      0.24       100\n",
            "          33       0.47      0.38      0.42       100\n",
            "          34       0.34      0.34      0.34       100\n",
            "          35       0.32      0.19      0.24       100\n",
            "          36       0.21      0.33      0.26       100\n",
            "          37       0.14      0.50      0.21       100\n",
            "          38       0.20      0.17      0.18       100\n",
            "          39       0.57      0.44      0.50       100\n",
            "          40       0.31      0.37      0.34       100\n",
            "          41       0.70      0.57      0.63       100\n",
            "          42       0.37      0.22      0.27       100\n",
            "          43       0.37      0.45      0.41       100\n",
            "          44       0.24      0.08      0.12       100\n",
            "          45       0.25      0.11      0.15       100\n",
            "          46       0.36      0.15      0.21       100\n",
            "          47       0.33      0.74      0.45       100\n",
            "          48       0.55      0.63      0.59       100\n",
            "          49       0.35      0.74      0.48       100\n",
            "          50       0.33      0.08      0.13       100\n",
            "          51       0.27      0.30      0.28       100\n",
            "          52       0.55      0.36      0.43       100\n",
            "          53       0.44      0.83      0.58       100\n",
            "          54       0.30      0.64      0.41       100\n",
            "          55       0.14      0.05      0.07       100\n",
            "          56       0.47      0.46      0.47       100\n",
            "          57       0.69      0.34      0.46       100\n",
            "          58       0.41      0.39      0.40       100\n",
            "          59       0.33      0.40      0.36       100\n",
            "          60       0.81      0.69      0.75       100\n",
            "          61       0.57      0.32      0.41       100\n",
            "          62       0.35      0.46      0.40       100\n",
            "          63       0.36      0.31      0.33       100\n",
            "          64       0.25      0.04      0.07       100\n",
            "          65       0.36      0.12      0.18       100\n",
            "          66       0.27      0.29      0.28       100\n",
            "          67       0.49      0.21      0.29       100\n",
            "          68       0.70      0.62      0.66       100\n",
            "          69       0.34      0.59      0.43       100\n",
            "          70       0.42      0.32      0.36       100\n",
            "          71       0.54      0.60      0.57       100\n",
            "          72       0.11      0.05      0.07       100\n",
            "          73       0.29      0.55      0.38       100\n",
            "          74       0.37      0.19      0.25       100\n",
            "          75       0.77      0.57      0.66       100\n",
            "          76       0.43      0.61      0.50       100\n",
            "          77       0.24      0.21      0.23       100\n",
            "          78       0.24      0.24      0.24       100\n",
            "          79       0.33      0.42      0.37       100\n",
            "          80       0.17      0.11      0.13       100\n",
            "          81       0.37      0.30      0.33       100\n",
            "          82       0.73      0.67      0.70       100\n",
            "          83       0.38      0.14      0.20       100\n",
            "          84       0.31      0.22      0.26       100\n",
            "          85       0.45      0.42      0.43       100\n",
            "          86       0.64      0.38      0.48       100\n",
            "          87       0.41      0.43      0.42       100\n",
            "          88       0.22      0.44      0.29       100\n",
            "          89       0.45      0.43      0.44       100\n",
            "          90       0.25      0.47      0.33       100\n",
            "          91       0.37      0.45      0.41       100\n",
            "          92       0.32      0.19      0.24       100\n",
            "          93       0.29      0.11      0.16       100\n",
            "          94       0.64      0.73      0.68       100\n",
            "          95       0.55      0.52      0.53       100\n",
            "          96       0.46      0.19      0.27       100\n",
            "          97       0.45      0.20      0.28       100\n",
            "          98       0.20      0.17      0.18       100\n",
            "          99       0.59      0.17      0.26       100\n",
            "\n",
            "    accuracy                           0.36     10000\n",
            "   macro avg       0.39      0.36      0.35     10000\n",
            "weighted avg       0.39      0.36      0.35     10000\n",
            "\n"
          ],
          "name": "stdout"
        },
        {
          "output_type": "display_data",
          "data": {
            "image/png": "[encoded data removed]",
            "text/plain": [
              "<Figure size 432x288 with 1 Axes>"
            ]
          },
          "metadata": {
            "tags": [],
            "needs_background": "light"
          }
        },
        {
          "output_type": "display_data",
          "data": {
            "image/png": "[encoded data removed]",
            "text/plain": [
              "<Figure size 432x288 with 1 Axes>"
            ]
          },
          "metadata": {
            "tags": [],
            "needs_background": "light"
          }
        }
      ]
    }
  ]
}
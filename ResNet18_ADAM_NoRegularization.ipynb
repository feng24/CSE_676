{
  "nbformat": 4,
  "nbformat_minor": 0,
  "metadata": {
    "colab": {
      "name": "ResNet18_ADAM_NoRegularization.ipynb",
      "provenance": []
    },
    "kernelspec": {
      "name": "python3",
      "display_name": "Python 3"
    },
    "accelerator": "GPU"
  },
  "cells": [
    {
      "cell_type": "code",
      "metadata": {
        "id": "hEVHE-EXce7l"
      },
      "source": [
        "from tensorflow.keras.datasets import cifar100\n",
        "from tensorflow.keras.models import Sequential\n",
        "from tensorflow.keras.layers import Dense, Flatten, Conv2D, MaxPool2D, Dropout\n",
        "from tensorflow.keras import layers\n",
        "from tensorflow import keras\n",
        "from keras.utils import to_categorical\n",
        "from tensorflow.keras.callbacks import EarlyStopping\n",
        "from sklearn.metrics import classification_report\n",
        "import tensorflow as tf\n",
        "import numpy as np\n",
        "import matplotlib.pyplot as plt"
      ],
      "execution_count": 1,
      "outputs": []
    },
    {
      "cell_type": "code",
      "metadata": {
        "id": "2ZnpaxF3cuLd",
        "outputId": "9a38c8af-d9b2-41a6-d444-c6c8fa95fe7c",
        "colab": {
          "base_uri": "https://localhost:8080/",
          "height": 51
        }
      },
      "source": [
        "#Load Data\n",
        "(train_data, _train_label), (test_data, _test_label) = cifar100.load_data()\n",
        "\n",
        "#Parse the number\n",
        "train_data = train_data.astype('float32')\n",
        "test_data = test_data.astype('float32')\n",
        "\n",
        "#normalize data\n",
        "train_data = train_data / 255\n",
        "test_data = test_data / 255\n",
        "\n",
        "train_label = to_categorical(_train_label)\n",
        "test_label = to_categorical(_test_label)"
      ],
      "execution_count": 2,
      "outputs": [
        {
          "output_type": "stream",
          "text": [
            "Downloading data from https://www.cs.toronto.edu/~kriz/cifar-100-python.tar.gz\n",
            "169009152/169001437 [==============================] - 6s 0us/step\n"
          ],
          "name": "stdout"
        }
      ]
    },
    {
      "cell_type": "code",
      "metadata": {
        "id": "c2XS9-_6cxdK"
      },
      "source": [
        "class Basic_Block(layers.Layer):\n",
        "    def __init__(self, filter_num, stride_conv = False, stride = 1):\n",
        "        super(Basic_Block, self).__init__()\n",
        "        \n",
        "        self.filter_num = filter_num\n",
        "        \n",
        "        self.conv1 = layers.Conv2D(self.filter_num, (3,3), strides = stride, padding = 'same' )\n",
        "        self.batch1 = layers.BatchNormalization()\n",
        "        self.relu = layers.Activation('relu')\n",
        "\n",
        "        self.conv2 = layers.Conv2D(self.filter_num, (3,3), padding = 'same')\n",
        "        self.batch2 = layers.BatchNormalization()\n",
        "\n",
        "        if stride_conv:\n",
        "            self.conv3 = layers.Conv2D(self.filter_num,(1,1), strides = stride)\n",
        "        else:\n",
        "            self.conv3 = None\n",
        "\n",
        "    def call(self, inputs):\n",
        "        out = self.conv1(inputs)\n",
        "        #out = self.batch1(out)\n",
        "        out = self.relu(out)\n",
        "\n",
        "        out = self.conv2(out)\n",
        "        #out = self.batch2(out)\n",
        "\n",
        "        if self.conv3:\n",
        "            inputs = self.conv3(inputs)\n",
        "\n",
        "        out = layers.add([out, inputs])\n",
        "        out = self.relu(out)\n",
        "\n",
        "        return out"
      ],
      "execution_count": 3,
      "outputs": []
    },
    {
      "cell_type": "code",
      "metadata": {
        "id": "wdwNdwh1zW9k"
      },
      "source": [
        "class ResNet(keras.Model):\n",
        "    def __init__(self, num_classes = 100):\n",
        "        super(ResNet, self).__init__()\n",
        "\n",
        "        self.conv = layers.Conv2D(64, (3,3), strides = (1,1), padding = 'same')\n",
        "        self.bn = layers.BatchNormalization()\n",
        "        self.relu = layers.Activation('relu')\n",
        "        self.maxpool = layers.MaxPool2D(pool_size = (2,2), padding = 'same')\n",
        "\n",
        "        self.layer1 = self.build_layer(64, 2)\n",
        "        self.layer2 = self.build_layer(128, 2, 2)\n",
        "        self.layer3 = self.build_layer(256, 2, 2)\n",
        "        self.layer4 = self.build_layer(512, 2, 2)\n",
        "\n",
        "        self.avgpool = layers.AveragePooling2D()\n",
        "        self.flatten = layers.Flatten()\n",
        "        self.fc = layers.Dense(num_classes)\n",
        "\n",
        "        self.activation = layers.Activation('softmax')\n",
        "        self.dropout = layers.Dropout(0.1)\n",
        "\n",
        "    def build_layer(self, filter_num, block, stride = 1):\n",
        "        result = Sequential()\n",
        "\n",
        "        result.add(Basic_Block(filter_num, stride_conv = True, stride = stride))\n",
        "\n",
        "        for _ in range(1, block):\n",
        "            result.add(Basic_Block(filter_num))\n",
        "\n",
        "        return result\n",
        "\n",
        "    def call(self, x):\n",
        "        x = self.conv(x)\n",
        "        x = self.bn(x)\n",
        "        x = self.relu(x)\n",
        "        x = self.maxpool(x)\n",
        "\n",
        "        x = self.layer1(x)\n",
        "        x = self.layer2(x)\n",
        "        x = self.layer3(x)\n",
        "        x = self.layer4(x)\n",
        "\n",
        "        x = self.avgpool(x)\n",
        "        x = self.flatten(x)\n",
        "        #x = self.dropout(x)\n",
        "        x = self.fc(x)\n",
        "        x = self.activation(x)\n",
        "\n",
        "        return x"
      ],
      "execution_count": 8,
      "outputs": []
    },
    {
      "cell_type": "code",
      "metadata": {
        "id": "O5cTXu7YXeo3"
      },
      "source": [
        "def resnet18():\n",
        "    return ResNet()"
      ],
      "execution_count": 9,
      "outputs": []
    },
    {
      "cell_type": "code",
      "metadata": {
        "id": "JoroHgEaXxYM",
        "outputId": "81d5a87c-10e3-44c1-88c4-c78b14ec8173",
        "colab": {
          "base_uri": "https://localhost:8080/",
          "height": 1000
        }
      },
      "source": [
        "model = resnet18()\n",
        "opt = keras.optimizers.Adam(learning_rate = 0.001)\n",
        "model.compile(optimizer = opt, loss = 'categorical_crossentropy', metrics = ['accuracy'])\n",
        "es = EarlyStopping(monitor = 'loss', verbose = 1)\n",
        "result = model.fit(train_data,train_label, epochs = 10, callbacks = [es])\n",
        "predict = model.predict(test_data)\n",
        "predict = np.argmax(predict, axis = 1)\n",
        "#test_label = np.argmax(test_label, axis = 1)\n",
        "print(test_label)\n",
        "print(predict)\n",
        "print(classification_report(y_true = test_label, y_pred = predict))\n",
        "plt.plot(result.history['accuracy'])\n",
        "plt.title('Accuracy')\n",
        "plt.ylabel('accuracy')\n",
        "plt.xlabel('epoch')\n",
        "plt.legend(['train'])\n",
        "plt.show()\n",
        "\n",
        "plt.plot(result.history['loss'])\n",
        "plt.title('loss')\n",
        "plt.ylabel('loss')\n",
        "plt.xlabel('epoch')\n",
        "plt.legend(['train'])\n",
        "plt.show()"
      ],
      "execution_count": 18,
      "outputs": [
        {
          "output_type": "stream",
          "text": [
            "Epoch 1/10\n",
            "1563/1563 [==============================] - 25s 16ms/step - loss: 4.1149 - accuracy: 0.0700\n",
            "Epoch 2/10\n",
            "1563/1563 [==============================] - 24s 16ms/step - loss: 3.4186 - accuracy: 0.1788\n",
            "Epoch 3/10\n",
            "1563/1563 [==============================] - 25s 16ms/step - loss: 3.0065 - accuracy: 0.2552\n",
            "Epoch 4/10\n",
            "1563/1563 [==============================] - 24s 16ms/step - loss: 2.6806 - accuracy: 0.3172\n",
            "Epoch 5/10\n",
            "1563/1563 [==============================] - 25s 16ms/step - loss: 2.3657 - accuracy: 0.3827\n",
            "Epoch 6/10\n",
            "1563/1563 [==============================] - 24s 16ms/step - loss: 2.0509 - accuracy: 0.4500\n",
            "Epoch 7/10\n",
            "1563/1563 [==============================] - 24s 16ms/step - loss: 1.7102 - accuracy: 0.5275\n",
            "Epoch 8/10\n",
            "1563/1563 [==============================] - 24s 16ms/step - loss: 1.3865 - accuracy: 0.6074\n",
            "Epoch 9/10\n",
            "1563/1563 [==============================] - 25s 16ms/step - loss: 1.1233 - accuracy: 0.6770\n",
            "Epoch 10/10\n",
            "1563/1563 [==============================] - 24s 16ms/step - loss: 0.9138 - accuracy: 0.7306\n",
            "[49 33 72 ... 51 42 70]\n",
            "[30 33 93 ... 44 88 70]\n",
            "              precision    recall  f1-score   support\n",
            "\n",
            "           0       0.50      0.61      0.55       100\n",
            "           1       0.34      0.32      0.33       100\n",
            "           2       0.20      0.12      0.15       100\n",
            "           3       0.18      0.13      0.15       100\n",
            "           4       0.12      0.29      0.17       100\n",
            "           5       0.20      0.16      0.18       100\n",
            "           6       0.25      0.23      0.24       100\n",
            "           7       0.31      0.34      0.32       100\n",
            "           8       0.48      0.29      0.36       100\n",
            "           9       0.47      0.42      0.44       100\n",
            "          10       0.13      0.22      0.16       100\n",
            "          11       0.15      0.14      0.14       100\n",
            "          12       0.29      0.25      0.27       100\n",
            "          13       0.35      0.28      0.31       100\n",
            "          14       0.25      0.16      0.20       100\n",
            "          15       0.25      0.20      0.22       100\n",
            "          16       0.60      0.28      0.38       100\n",
            "          17       0.49      0.38      0.43       100\n",
            "          18       0.14      0.27      0.19       100\n",
            "          19       0.30      0.23      0.26       100\n",
            "          20       0.78      0.47      0.59       100\n",
            "          21       0.44      0.34      0.38       100\n",
            "          22       0.34      0.28      0.31       100\n",
            "          23       0.68      0.38      0.49       100\n",
            "          24       0.51      0.60      0.55       100\n",
            "          25       0.15      0.14      0.14       100\n",
            "          26       0.25      0.23      0.24       100\n",
            "          27       0.14      0.10      0.12       100\n",
            "          28       0.51      0.46      0.48       100\n",
            "          29       0.23      0.23      0.23       100\n",
            "          30       0.31      0.51      0.39       100\n",
            "          31       0.22      0.13      0.16       100\n",
            "          32       0.24      0.20      0.22       100\n",
            "          33       0.21      0.40      0.28       100\n",
            "          34       0.30      0.27      0.29       100\n",
            "          35       0.13      0.19      0.15       100\n",
            "          36       0.30      0.23      0.26       100\n",
            "          37       0.44      0.11      0.18       100\n",
            "          38       0.14      0.16      0.15       100\n",
            "          39       0.44      0.32      0.37       100\n",
            "          40       0.31      0.31      0.31       100\n",
            "          41       0.73      0.55      0.63       100\n",
            "          42       0.15      0.28      0.20       100\n",
            "          43       0.18      0.24      0.21       100\n",
            "          44       0.10      0.21      0.14       100\n",
            "          45       0.28      0.13      0.18       100\n",
            "          46       0.20      0.09      0.12       100\n",
            "          47       0.43      0.49      0.46       100\n",
            "          48       0.61      0.43      0.50       100\n",
            "          49       0.35      0.35      0.35       100\n",
            "          50       0.16      0.18      0.17       100\n",
            "          51       0.17      0.16      0.16       100\n",
            "          52       0.49      0.54      0.51       100\n",
            "          53       0.48      0.52      0.50       100\n",
            "          54       0.34      0.32      0.33       100\n",
            "          55       0.04      0.05      0.05       100\n",
            "          56       0.40      0.44      0.42       100\n",
            "          57       0.27      0.25      0.26       100\n",
            "          58       0.44      0.18      0.26       100\n",
            "          59       0.28      0.22      0.25       100\n",
            "          60       0.78      0.71      0.74       100\n",
            "          61       0.40      0.34      0.37       100\n",
            "          62       0.41      0.50      0.45       100\n",
            "          63       0.25      0.28      0.26       100\n",
            "          64       0.14      0.10      0.12       100\n",
            "          65       0.16      0.13      0.15       100\n",
            "          66       0.16      0.26      0.20       100\n",
            "          67       0.33      0.34      0.33       100\n",
            "          68       0.61      0.71      0.66       100\n",
            "          69       0.56      0.41      0.47       100\n",
            "          70       0.34      0.28      0.31       100\n",
            "          71       0.49      0.54      0.51       100\n",
            "          72       0.06      0.04      0.05       100\n",
            "          73       0.27      0.27      0.27       100\n",
            "          74       0.14      0.15      0.14       100\n",
            "          75       0.76      0.35      0.48       100\n",
            "          76       0.41      0.60      0.49       100\n",
            "          77       0.11      0.18      0.14       100\n",
            "          78       0.09      0.11      0.10       100\n",
            "          79       0.21      0.23      0.22       100\n",
            "          80       0.11      0.08      0.09       100\n",
            "          81       0.26      0.24      0.25       100\n",
            "          82       0.62      0.63      0.63       100\n",
            "          83       0.22      0.15      0.18       100\n",
            "          84       0.12      0.17      0.14       100\n",
            "          85       0.38      0.39      0.38       100\n",
            "          86       0.49      0.26      0.34       100\n",
            "          87       0.57      0.33      0.42       100\n",
            "          88       0.17      0.32      0.23       100\n",
            "          89       0.29      0.31      0.30       100\n",
            "          90       0.18      0.25      0.21       100\n",
            "          91       0.55      0.35      0.43       100\n",
            "          92       0.24      0.21      0.22       100\n",
            "          93       0.18      0.25      0.21       100\n",
            "          94       0.70      0.48      0.57       100\n",
            "          95       0.58      0.34      0.43       100\n",
            "          96       0.24      0.43      0.31       100\n",
            "          97       0.20      0.29      0.24       100\n",
            "          98       0.11      0.08      0.09       100\n",
            "          99       0.29      0.34      0.31       100\n",
            "\n",
            "    accuracy                           0.29     10000\n",
            "   macro avg       0.32      0.29      0.30     10000\n",
            "weighted avg       0.32      0.29      0.30     10000\n",
            "\n"
          ],
          "name": "stdout"
        },
        {
          "output_type": "display_data",
          "data": {
            "image/png": "[encoded data removed]",
            "text/plain": [
              "<Figure size 432x288 with 1 Axes>"
            ]
          },
          "metadata": {
            "tags": [],
            "needs_background": "light"
          }
        },
        {
          "output_type": "display_data",
          "data": {
            "image/png": "[encoded data removed]",
            "text/plain": [
              "<Figure size 432x288 with 1 Axes>"
            ]
          },
          "metadata": {
            "tags": [],
            "needs_background": "light"
          }
        }
      ]
    }
  ]
}